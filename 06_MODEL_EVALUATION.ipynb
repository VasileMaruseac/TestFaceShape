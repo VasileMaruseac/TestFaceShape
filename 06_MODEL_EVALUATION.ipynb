{
 "cells": [
  {
   "cell_type": "code",
   "execution_count": 1,
   "id": "4f6f905d-0baf-42e3-9dbe-95d81e335675",
   "metadata": {},
   "outputs": [
    {
     "name": "stderr",
     "output_type": "stream",
     "text": [
      "2025-02-21 11:19:24.624288: I tensorflow/core/util/port.cc:153] oneDNN custom operations are on. You may see slightly different numerical results due to floating-point round-off errors from different computation orders. To turn them off, set the environment variable `TF_ENABLE_ONEDNN_OPTS=0`.\n",
      "2025-02-21 11:19:24.703164: E external/local_xla/xla/stream_executor/cuda/cuda_fft.cc:477] Unable to register cuFFT factory: Attempting to register factory for plugin cuFFT when one has already been registered\n",
      "WARNING: All log messages before absl::InitializeLog() is called are written to STDERR\n",
      "E0000 00:00:1740129564.765491 4027577 cuda_dnn.cc:8310] Unable to register cuDNN factory: Attempting to register factory for plugin cuDNN when one has already been registered\n",
      "E0000 00:00:1740129564.783845 4027577 cuda_blas.cc:1418] Unable to register cuBLAS factory: Attempting to register factory for plugin cuBLAS when one has already been registered\n",
      "2025-02-21 11:19:24.843035: I tensorflow/core/platform/cpu_feature_guard.cc:210] This TensorFlow binary is optimized to use available CPU instructions in performance-critical operations.\n",
      "To enable the following instructions: AVX2 AVX512F AVX512_VNNI FMA, in other operations, rebuild TensorFlow with the appropriate compiler flags.\n"
     ]
    }
   ],
   "source": [
    "import matplotlib.pyplot as plt \n",
    "import seaborn as sns\n",
    "import numpy as np \n",
    "import os \n",
    "import cv2\n",
    "import pickle\n",
    "import pandas as pd\n",
    "import itertools\n",
    "import tensorflow as tf\n",
    "from tensorflow.keras.models import load_model\n",
    "from sklearn.metrics import confusion_matrix\n",
    "\n",
    "%matplotlib inline"
   ]
  },
  {
   "cell_type": "code",
   "execution_count": 2,
   "id": "8a963773-d17b-4610-83c2-46e79437cbb3",
   "metadata": {},
   "outputs": [],
   "source": [
    "cm_plot_labels = ['Heart','Rectangle','Oval','Round', 'Square', 'Triangle']\n",
    "fig_path = './images/'\n",
    "\n",
    "def create_confusion_matrix(y_test_labels, y_preds, classes, title='Confusion Matrix', \n",
    "                            normalize=False, cmap=plt.cm.Blues):\n",
    "\n",
    "    cm = confusion_matrix(y_test_labels, y_preds)\n",
    "    \n",
    "    if normalize:\n",
    "        cm = cm.astype('float') / cm.sum(axis=1)[:, np.newaxis]\n",
    "        print(\"Normalized confusion matrix\")\n",
    "    else:\n",
    "        print('Confusion matrix, without normalization')\n",
    "\n",
    "    # print(cm)\n",
    "\n",
    "    plt.figure(figsize=(16,8))\n",
    "    plt.imshow(cm, interpolation='nearest', cmap=cmap)\n",
    "    plt.title(title, fontsize = 15)\n",
    "    plt.colorbar()\n",
    "    tick_marks = np.arange(len(classes))\n",
    "    plt.xticks(tick_marks, classes, rotation=45)\n",
    "    plt.yticks(tick_marks, classes)\n",
    "\n",
    "    fmt = '.2f' if normalize else 'd'\n",
    "    thresh = cm.max() / 2.\n",
    "    for i, j in itertools.product(range(cm.shape[0]), range(cm.shape[1])):\n",
    "        plt.text(j, i, format(cm[i, j], fmt),\n",
    "                 horizontalalignment=\"center\",\n",
    "                 color=\"white\" if cm[i, j] > thresh else \"black\")\n",
    "\n",
    "    plt.tight_layout()\n",
    "    plt.ylabel('True label')\n",
    "    plt.xlabel('Predicted label')\n",
    "    plt.savefig(f\"{fig_path+title}.png\");    # for saving images to .png file\n",
    "    plt.show()\n"
   ]
  },
  {
   "cell_type": "code",
   "execution_count": 6,
   "id": "34b1bee9-cc0b-48c0-8386-a90d47509a3c",
   "metadata": {},
   "outputs": [],
   "source": [
    "def compare_misclass(df, predict, fig_title='Comparing Misclassification', ax_title=''):\n",
    "    fig, ax = plt.subplots(nrows=1, ncols=2, sharey=True, figsize=(15,5))\n",
    "    fig.suptitle(fig_title, fontsize=16)\n",
    "    ax[0].hist(df.y_actual, bins=9, color='lightcoral')\n",
    "    ax[0].set_xticks(range(0,6))\n",
    "    ax[0].set_xticklabels(cm_plot_labels)\n",
    "    ax[0].set_title(f'{ax_title}\\n ACTUAL CLASS')\n",
    "    ax[1].hist(df[predict], bins=9, color='mediumturquoise')\n",
    "    ax[1].set_xticks(range(0,6))\n",
    "    ax[1].set_xticklabels(cm_plot_labels)\n",
    "    ax[1].set_title(f'{ax_title}\\n PREDICTED CLASS');\n",
    "    plt.savefig(f\"{fig_path+fig_title}.png\");"
   ]
  },
  {
   "cell_type": "code",
   "execution_count": 7,
   "id": "8f2c6821-a619-4a2f-808c-5e27e3d7750f",
   "metadata": {},
   "outputs": [],
   "source": [
    "def plot_misclass_img_proba(df, list_index):\n",
    "  for i in list_index:\n",
    "    img = X_test[i] * 255\n",
    "    img = np.asarray(img, int)\n",
    "    label = y_label_dict[y_actual[i]]\n",
    "\n",
    "    plt.figure(figsize=(15,5))\n",
    "    plt.subplot(1,3,1)\n",
    "    plt.imshow(img, cmap='gray')\n",
    "    plt.title(label, size=16)\n",
    "    plt.subplot(1,3,2)\n",
    "    df.loc[i, ['heart_s', 'rectangle_s', 'oval_s', 'round_s','square_s','triangle_s']].plot(kind='bar', color='pink')\n",
    "    plt.title('Probabilities - CNN from scratch', fontsize=14, y=1.01)\n",
    "    plt.subplot(1,3,3)\n",
    "    df.loc[i, ['heart_t', 'rectangle_t', 'oval_t', 'round_t','square_t','triangle_t']].plot(kind='bar', color='plum')\n",
    "    plt.title('Probabilities - CNN transfer learning', fontsize=14, y=1.01);"
   ]
  },
  {
   "cell_type": "code",
   "execution_count": 8,
   "id": "64c60a9a-1ac0-49ea-be03-e2ea96d89935",
   "metadata": {},
   "outputs": [],
   "source": [
    "path = './pickle_out/rgb/'\n",
    "\n",
    "X_train = np.asarray(pickle.load(open(path + \"pickle_out_rgbX_train_rgb.pickle\",\"rb\")))\n",
    "y_train = np.asarray(pickle.load(open(path + \"pickle_out_rgby_train_rgb.pickle\",\"rb\")))\n",
    "X_test = np.asarray(pickle.load(open(path + \"pickle_out_rgbX_test_rgb.pickle\",\"rb\")))\n",
    "y_test = np.asarray(pickle.load(open(path + \"pickle_out_rgby_test_rgb.pickle\",\"rb\")))"
   ]
  },
  {
   "cell_type": "code",
   "execution_count": 9,
   "id": "29cf3bbc-8ad6-4f35-8846-3f758475cf08",
   "metadata": {},
   "outputs": [
    {
     "name": "stdout",
     "output_type": "stream",
     "text": [
      "Data Summary\n",
      "--------------------\n",
      "X_train shape (3620, 224, 224, 3)\n",
      "y_train shape (3620, 6)\n",
      "--------------------\n",
      "X_test shape (1204, 224, 224, 3)\n",
      "y_test shape (1204, 6)\n"
     ]
    }
   ],
   "source": [
    "print(\"Data Summary\")\n",
    "print(\"--------------------\")\n",
    "print(f\"X_train shape {X_train.shape}\")\n",
    "print(f\"y_train shape {y_train.shape}\")\n",
    "print(\"--------------------\")\n",
    "print(f\"X_test shape {X_test.shape}\")\n",
    "print(f\"y_test shape {y_test.shape}\")"
   ]
  },
  {
   "cell_type": "code",
   "execution_count": null,
   "id": "408d6a11-f092-46fd-be22-0b695f8fa48f",
   "metadata": {},
   "outputs": [],
   "source": [
    "# New model from scratch\n",
    "\n",
    "scratch_path = './SavedModels/AGMT.keras'\n",
    "scratch_file = scratch_path + 'agmt_feb2025_v2.keras'\n",
    "mod_scratch = tf.keras.models.load_model(scratch_file)"
   ]
  },
  {
   "cell_type": "code",
   "execution_count": null,
   "id": "a523fbc0-0acc-4dd2-891f-dfadaffa1bad",
   "metadata": {},
   "outputs": [],
   "source": [
    "# Transfer Learning model from VGG-Face\n",
    "\n",
    "transfer_path = './SavedModels/VGGFACE.keras'\n",
    "transfer_file = transfer_path + 'vgg16-face-2.keras'\n",
    "mod_transfer = tf.keras.models.load_model(transfer_file)"
   ]
  },
  {
   "cell_type": "code",
   "execution_count": null,
   "id": "383541b2-db9f-47c7-b362-6114f216ad5d",
   "metadata": {},
   "outputs": [],
   "source": [
    "# Make predictions\n",
    "y_actual = np.argmax(y_test, axis=-1)\n",
    "y_predict_scratch = np.argmax(mod_scratch.predict(X_test), axis=1)\n",
    "y_predict_transfer = np.argmax(mod_transfer.predict(X_test), axis=1)"
   ]
  },
  {
   "cell_type": "code",
   "execution_count": null,
   "id": "840d5ce6-63ef-48bf-963a-5511dfb6cc94",
   "metadata": {},
   "outputs": [],
   "source": [
    "# Generate predict probabilities\n",
    "predict_proba_scratch = mod_scratch.predict(X_test)\n",
    "predict_proba_transfer = mod_transfer.predict(X_test)"
   ]
  },
  {
   "cell_type": "code",
   "execution_count": null,
   "id": "aa23421a-f6a8-4764-81f4-e3f497530613",
   "metadata": {},
   "outputs": [],
   "source": [
    "mod_scratch.evaluate(X_test, y_test)"
   ]
  },
  {
   "cell_type": "code",
   "execution_count": null,
   "id": "71537b27-8484-46b2-af1d-d4492226155f",
   "metadata": {},
   "outputs": [],
   "source": [
    "mod_transfer.evaluate(X_test, y_test)"
   ]
  },
  {
   "cell_type": "code",
   "execution_count": null,
   "id": "12be013c-f39f-4f8f-abd7-74e0ab4e63cb",
   "metadata": {},
   "outputs": [],
   "source": [
    "create_confusion_matrix(y_actual, y_predict_scratch, cm_plot_labels, \n",
    "                        title='Confusion Matrix - CNN Model without Transfer Learning', \n",
    "                        normalize=True, cmap=plt.cm.Blues)"
   ]
  },
  {
   "cell_type": "code",
   "execution_count": null,
   "id": "5a1397d6-c429-4a97-8bdd-10de4c4bd0b4",
   "metadata": {},
   "outputs": [],
   "source": [
    "create_confusion_matrix(y_actual, y_predict_transfer, cm_plot_labels, \n",
    "                        title='Confusion Matrix - CNN Model with Transfer Learning', \n",
    "                        normalize=True, cmap=plt.cm.Blues)"
   ]
  },
  {
   "cell_type": "code",
   "execution_count": null,
   "id": "9ec41cef-98e4-440a-b355-9d9fb9272d75",
   "metadata": {},
   "outputs": [],
   "source": [
    "def create_df(y_actual, y_predict, predict_proba, X_test, y_test):\n",
    "  '''this function creates a dataframe with predictions and probabilities of a model'''\n",
    "  # generate predictions\n",
    "\n",
    "  actual = pd.DataFrame(y_actual, columns=['y_actual'])\n",
    "  predict = pd.DataFrame(y_predict, columns=['y_predict'])\n",
    "\n",
    "  # generate prediction probabilities \n",
    "\n",
    "  probability_list = []\n",
    "  for i, item in enumerate(predict_proba):\n",
    "    probabilities = {}\n",
    "    probabilities['heart'] = round(item[0] * 100,2)\n",
    "    probabilities['rectangle'] = round(item[1] * 100,2)\n",
    "    probabilities['oval'] = round(item[2] *100,2)\n",
    "    probabilities['round'] = round(item[3] *100,2)\n",
    "    probabilities['square'] = round(item[4] *100,2)\n",
    "    probabilities['triangle'] = round(item[5] *100,2)\n",
    "    probability_list.append(probabilities)\n",
    "  proba = pd.DataFrame(probability_list)\n",
    "\n",
    "  # create dataframe\n",
    "  df = pd.concat([actual, predict, proba],axis=1)\n",
    "  \n",
    "  return df\n"
   ]
  },
  {
   "cell_type": "code",
   "execution_count": null,
   "id": "1340a64a-442c-41d6-9a2a-79256a6dd13f",
   "metadata": {},
   "outputs": [],
   "source": [
    "scratch = create_df(y_actual, y_predict_scratch, predict_proba_scratch, X_test, y_test)\n",
    "\n",
    "transfer = create_df(y_actual, y_predict_transfer, predict_proba_transfer, X_test, y_test)"
   ]
  },
  {
   "cell_type": "code",
   "execution_count": null,
   "id": "019ffbc6-31f2-417f-b75f-74f811c51b16",
   "metadata": {},
   "outputs": [],
   "source": [
    "# dataframe for model built from scratch\n",
    "scratch.columns = [x + '_s' for x in scratch.columns]\n",
    "scratch.head()"
   ]
  },
  {
   "cell_type": "code",
   "execution_count": null,
   "id": "ce907b59-85d3-407a-b838-cc08ee2a94bb",
   "metadata": {},
   "outputs": [],
   "source": [
    "# dataframe for model with transfer learning\n",
    "transfer.columns = [x + '_t' for x in transfer.columns]\n",
    "transfer.head()"
   ]
  },
  {
   "cell_type": "code",
   "execution_count": null,
   "id": "9b5d2fb4-0de5-472a-9942-189346853972",
   "metadata": {},
   "outputs": [],
   "source": [
    "# combine the data frame for evaluations\n",
    "evaluations = pd.concat([scratch, transfer], axis=1)\n",
    "\n",
    "# drop one of the y_actual as they are the same\n",
    "evaluations = evaluations.drop(columns='y_actual_t')\n",
    "evaluations = evaluations.rename(columns={'y_actual_s': 'y_actual'})\n",
    "\n",
    "# create columns with actual labels\n",
    "evaluations['actual'] = evaluations['y_actual'].map(y_label_dict)\n",
    "evaluations['s_predict'] = evaluations['y_predict_s'].map(y_label_dict)\n",
    "evaluations['t_predict'] = evaluations['y_predict_t'].map(y_label_dict)\n",
    "\n",
    "# create new columns to detect where the 2 models misclassify, and the differences in predictions\n",
    "evaluations['predict_diff'] = evaluations['y_predict_s'] - evaluations['y_predict_t']\n",
    "evaluations['t_misclass'] = evaluations['y_actual'] - evaluations['y_predict_t']\n",
    "evaluations['s_misclass'] = evaluations['y_actual'] - evaluations['y_predict_s']\n",
    "\n",
    "evaluations"
   ]
  },
  {
   "cell_type": "code",
   "execution_count": null,
   "id": "14484f9f-0cdf-40e4-abfe-e026a739ba93",
   "metadata": {},
   "outputs": [],
   "source": [
    "print('SUMMARY OF MISCLASSIFICATION')\n",
    "\n",
    "correct = evaluations[(evaluations.y_predict_t == evaluations.y_actual) & (evaluations.y_predict_s == evaluations.y_actual)]\n",
    "print(f'\\nNumber of images that both models predicted correctly are {correct.shape[0]}')\n",
    "\n",
    "misclass = evaluations[(evaluations.y_predict_t != evaluations.y_actual) | (evaluations.y_predict_s != evaluations.y_actual)]\n",
    "print(f'Number of images that are misclassified by either of the models are {misclass.shape[0]}')\n",
    "print(f'\\n--------------------------------------------------------------------------------------\\n')\n",
    "\n",
    "# where both models predicted incorrectly\n",
    "both_wrong = misclass[(misclass.s_misclass != 0) & (misclass.t_misclass != 0)]\n",
    "both_wrong_same = misclass[((misclass.s_misclass != 0) & (misclass.t_misclass != 0)) & (misclass.t_misclass == misclass.s_misclass)]\n",
    "both_wrong_different = misclass[((misclass.s_misclass != 0) & (misclass.t_misclass != 0)) & (misclass.t_misclass != misclass.s_misclass)]\n",
    "print(f\"Both models predicted incorrectly: {both_wrong.shape[0]}\")\n",
    "print(f\"Same class: {both_wrong_same.shape[0]}\")\n",
    "print(f\"Different class: {both_wrong_different.shape[0]}\")\n",
    "print(f'\\n--------------------------------------------------------------------------------------\\n')\n",
    "\n",
    "# where transfer learning improved predictions vs. the model from scratch\n",
    "t_misclass = misclass[(misclass.t_misclass != 0)]\n",
    "print(f\"Transfer learning predicted incorrectly: {misclass[(misclass.t_misclass != 0)].shape[0]}\")\n",
    "print(f\"Model from scratch predicted correctly: {misclass[(misclass.t_misclass != 0) & (misclass.s_misclass == 0)].shape[0]}\")\n",
    "print(f'\\n--------------------------------------------------------------------------------------\\n')\n",
    "\n",
    "# where model from scratch predicted correctly, but the transfer learning did not\n",
    "s_misclass = misclass[(misclass.s_misclass != 0)]\n",
    "print(f\"Transfer learning predicted incorrectly: {misclass[(misclass.s_misclass != 0)].shape[0]}\")\n",
    "print(f\"Model from scratch predicted correctly: {misclass[(misclass.s_misclass != 0) & (misclass.t_misclass == 0)].shape[0]}\")\n",
    "print(f'\\n--------------------------------------------------------------------------------------\\n')\n"
   ]
  },
  {
   "cell_type": "code",
   "execution_count": null,
   "id": "0388708a-146b-480d-adc0-0d5662a84095",
   "metadata": {},
   "outputs": [],
   "source": [
    "compare_misclass(t_misclass, 'y_predict_t', fig_title='Missclassified:  Transfer Learning Model only (32 images)', ax_title='')\n"
   ]
  },
  {
   "cell_type": "code",
   "execution_count": null,
   "id": "79e07499-b3d1-4ea0-a083-6800b913bd57",
   "metadata": {},
   "outputs": [],
   "source": [
    "compare_misclass(s_misclass, 'y_predict_s', fig_title='Missclassified:  NON-Transfer Learning Model only (190 images)', ax_title='')\n"
   ]
  },
  {
   "cell_type": "code",
   "execution_count": null,
   "id": "e00023f7-e933-455e-ba30-8bdbde8b5266",
   "metadata": {},
   "outputs": [],
   "source": [
    "# identify and plot 20 images where both models misclassify, but incorrectly predicted different classes.\n",
    "\n",
    "both_wrong_same_index = both_wrong_same[(both_wrong_same.actual == 'Oval')].head(30).index\n",
    "plot_misclass_img_proba(both_wrong_same[(both_wrong_same.actual == 'Oval')].head(30), both_wrong_same_index)"
   ]
  },
  {
   "cell_type": "code",
   "execution_count": null,
   "id": "9407af52-fce9-4833-b51e-86637f7851b8",
   "metadata": {},
   "outputs": [],
   "source": [
    "# identify and plot 20 images where both models misclassify, but incorrectly predicted different classes.\n",
    "\n",
    "both_wrong_different_index = both_wrong_different.head(20).index\n",
    "plot_misclass_img_proba(both_wrong_different.head(20), both_wrong_different_index)"
   ]
  },
  {
   "cell_type": "code",
   "execution_count": null,
   "id": "481dddf9-ebdf-4dfd-8e59-98f40a5a56d0",
   "metadata": {},
   "outputs": [],
   "source": [
    "\n",
    "\n",
    "# identify and plot 20 images where Transfer Learning misclassifies, but Model from scratch correctly predicted.\n",
    "\n",
    "t_misclass_index = t_misclass[(t_misclass.s_misclass == 0)].head(20).index\n",
    "plot_misclass_img_proba(t_misclass[(t_misclass.s_misclass == 0)].head(20), t_misclass_index)\n",
    "\n"
   ]
  },
  {
   "cell_type": "code",
   "execution_count": null,
   "id": "02e43448-03e8-47e3-9e2a-4f8bbf7d43c9",
   "metadata": {},
   "outputs": [],
   "source": [
    "# filter where CNN from scratch misclassification, while Transfer Learning has 100% probability on the predicted class\n",
    "mask_100 = ((s_misclass.heart_t == 100) | (s_misclass.rectangle_t == 100) | (s_misclass.oval_t == 100) |\n",
    "            (s_misclass.round_t == 100) | (s_misclass.square_t == 100) | (s_misclass.triangle_t == 100))\n",
    "s_misclass_t100 = s_misclass[(mask_100)]\n",
    "s_misclass_t100.groupby('actual')['y_actual'].count().plot(kind='bar', color='skyblue')\n",
    "plt.title('TRANSFER LEARNING\\nImprove misclassification to 100% predict_probability\\n(No. of Images)');\n",
    "plt.savefig(f\"transfer_100.png\");\n"
   ]
  },
  {
   "cell_type": "code",
   "execution_count": null,
   "id": "c64e777c-57c9-479b-aa90-b018f4b8f5ac",
   "metadata": {},
   "outputs": [],
   "source": [
    "s_misclass_t100_index = s_misclass_t100.head(20).index\n",
    "plot_misclass_img_proba(s_misclass_t100.head(20), s_misclass_t100_index)"
   ]
  },
  {
   "cell_type": "code",
   "execution_count": null,
   "id": "0a4dd05f-e49e-4526-b509-f979a37471cb",
   "metadata": {},
   "outputs": [],
   "source": []
  }
 ],
 "metadata": {
  "kernelspec": {
   "display_name": "Python 3 (ipykernel)",
   "language": "python",
   "name": "python3"
  },
  "language_info": {
   "codemirror_mode": {
    "name": "ipython",
    "version": 3
   },
   "file_extension": ".py",
   "mimetype": "text/x-python",
   "name": "python",
   "nbconvert_exporter": "python",
   "pygments_lexer": "ipython3",
   "version": "3.12.3"
  }
 },
 "nbformat": 4,
 "nbformat_minor": 5
}
