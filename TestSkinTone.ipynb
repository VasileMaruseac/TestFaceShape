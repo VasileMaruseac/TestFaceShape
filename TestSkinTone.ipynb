{
 "cells": [
  {
   "cell_type": "code",
   "execution_count": null,
   "id": "f65d296e-5912-4675-8545-2aa4b9d87c2e",
   "metadata": {},
   "outputs": [],
   "source": [
    "import stone\n",
    "import os \n",
    "from json import dumps\n",
    "\n",
    "\n",
    "# ex_path = './examples'\n",
    "# ex_files = os.listdir(ex_path)\n",
    "\n",
    "# examples = []\n",
    "\n",
    "# for i in ex_files:\n",
    "#     img = os.path.join(ex_path,i)\n",
    "#     result = stone.process(img, \"auto\", \"proder\", return_report_image=True)\n",
    "#     report_images = result.pop(\"report_images\")  # obtain and remove the report image from the `result`\n",
    "#     # examples.append(img)\n",
    "    \n",
    "# examples = sorted(examples)\n",
    "\n",
    "# process the image\n",
    "# result = stone.process('./examples/heart (200).jpg', \"auto\", \"proder\", return_report_image=True)\n",
    "result = stone.process('./examples/heart (200).jpg', \"auto\", \"proder\")\n",
    "print(result)\n",
    "# # show the report image\n",
    "# report_images = result.pop(\"report_images\")  # obtain and remove the report image from the `result`\n",
    "# face_id = 1\n",
    "# stone.show(report_images[face_id])\n",
    "\n",
    "# # convert the result to json\n",
    "# result_json = dumps(result)"
   ]
  },
  {
   "cell_type": "code",
   "execution_count": null,
   "id": "904c6f6c-7e8e-452e-b810-94df432cff4f",
   "metadata": {},
   "outputs": [],
   "source": []
  }
 ],
 "metadata": {
  "kernelspec": {
   "display_name": "Python 3 (ipykernel)",
   "language": "python",
   "name": "python3"
  },
  "language_info": {
   "codemirror_mode": {
    "name": "ipython",
    "version": 3
   },
   "file_extension": ".py",
   "mimetype": "text/x-python",
   "name": "python",
   "nbconvert_exporter": "python",
   "pygments_lexer": "ipython3",
   "version": "3.12.3"
  }
 },
 "nbformat": 4,
 "nbformat_minor": 5
}
